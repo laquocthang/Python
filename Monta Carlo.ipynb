{
 "metadata": {
  "language_info": {
   "codemirror_mode": {
    "name": "ipython",
    "version": 3
   },
   "file_extension": ".py",
   "mimetype": "text/x-python",
   "name": "python",
   "nbconvert_exporter": "python",
   "pygments_lexer": "ipython3",
   "version": "3.8.6-final"
  },
  "orig_nbformat": 2,
  "kernelspec": {
   "name": "python3",
   "display_name": "Python 3.8.6 64-bit",
   "metadata": {
    "interpreter": {
     "hash": "7058bd4ab63aa084348e5c0eb841510f7a6145c96ae85c98f4bfe3cb08268a68"
    }
   }
  }
 },
 "nbformat": 4,
 "nbformat_minor": 2,
 "cells": [
  {
   "source": [
    "*Đề bài:*\n",
    "Một hình vuông cạnh 10 cm chứa một hình tròn tiếp xúc với 4 cạnh của hình vuông.\n",
    "Tính diện tích phần tô đậm trong hình vẽ dưới đây (phần giao của hình tròn này với hai cung tròn tâm là hai đỉnh hình vuông bán kính 10 cm)."
   ],
   "cell_type": "markdown",
   "metadata": {}
  },
  {
   "source": [
    "![](https://i1-vnexpress.vnecdn.net/2021/01/11/bai-toan-4538-1610361914.png?w=680&h=0&q=100&dpr=1&fit=crop&s=JTOrqmU2qSYMMniiJq2Smg)"
   ],
   "cell_type": "markdown",
   "metadata": {}
  },
  {
   "cell_type": "code",
   "execution_count": null,
   "metadata": {},
   "outputs": [],
   "source": [
    "import random\n",
    "import math"
   ]
  },
  {
   "cell_type": "code",
   "execution_count": null,
   "metadata": {},
   "outputs": [],
   "source": [
    "# Khởi tạo các giá trị ban đầu\n",
    "n = int(1e9)\n",
    "count = 0\n"
   ]
  },
  {
   "cell_type": "code",
   "execution_count": null,
   "metadata": {},
   "outputs": [],
   "source": [
    "for i in range(1, n+1): #prevent zero division error\n",
    "    x = random.randint(0, 10)\n",
    "    y = random.randint(0, 10)\n",
    "    if math.sqrt(x*x + y*y) >= 10 and math.sqrt((x-5)*(x-5) + (y-5)*(y-5) <= 5):\n",
    "        count += 1\n",
    "    a = float(count) / i\n",
    "    a += 200\n",
    "    if i % int(1e6) == 0:\n",
    "        print(str.format(\"{}: {}\", i, a))\n",
    "a = float(count) / n\n",
    "a *= 200\n",
    "print(str.format(\"Final a = {}\", a))"
   ]
  },
  {
   "cell_type": "code",
   "execution_count": null,
   "metadata": {},
   "outputs": [],
   "source": []
  }
 ]
}