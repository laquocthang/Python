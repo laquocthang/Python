{
 "cells": [
  {
   "cell_type": "code",
   "execution_count": null,
   "metadata": {
    "scrolled": true
   },
   "outputs": [],
   "source": [
    "%matplotlib inline\n",
    "#import the necessary packages\n",
    "from imutils.perspective import four_point_transform\n",
    "from imutils import contours\n",
    "from matplotlib import pyplot as plt\n",
    "import numpy as np\n",
    "import argparse\n",
    "import imutils\n",
    "import cv2"
   ]
  },
  {
   "cell_type": "code",
   "execution_count": null,
   "metadata": {},
   "outputs": [],
   "source": [
    "# define the answer key which maps the question number to the correct answer\n",
    "# the key indicates the question, the value is the correct answer in \"ABCDE\"\n",
    "ANSWER_KEY = {0: 1, 1: 4, 2: 0, 3: 3, 4: 1}"
   ]
  },
  {
   "cell_type": "code",
   "execution_count": null,
   "metadata": {},
   "outputs": [],
   "source": [
    "# load the image, convert it to grayscale, blur it slightly, then find edges\n",
    "# load image from disk\n",
    "image = cv2.imread('images/test_01.png')\n",
    "# convert it to grayscale\n",
    "gray = cv2.cvtColor(image, cv2.COLOR_BGR2GRAY)\n",
    "# blurring it to reduce high frequency noise\n",
    "blurred = cv2.GaussianBlur(gray, (5, 5), 0)\n",
    "# find the edges/outlines of the exam\n",
    "edged = cv2.Canny(blurred, 75, 200)"
   ]
  },
  {
   "cell_type": "code",
   "execution_count": null,
   "metadata": {},
   "outputs": [],
   "source": [
    "f, arr = plt.subplots(2, 2)\n",
    "arr[0, 0].imshow(image)\n",
    "arr[0, 1].imshow(gray)\n",
    "arr[1, 0].imshow(blurred)\n",
    "arr[1, 1].imshow(edged)\n",
    "plt.show()"
   ]
  },
  {
   "cell_type": "code",
   "execution_count": null,
   "metadata": {},
   "outputs": [],
   "source": [
    "# find contours (đường viền) in the edge map, then initialize\n",
    "# the contour that corresponds to the document\n",
    "cnts = cv2.findContours(edged.copy(), cv2.RETR_EXTERNAL, cv2.CHAIN_APPROX_SIMPLE)\n",
    "cnts = imutils.grab_contours(cnts)\n",
    "docCnt = None"
   ]
  },
  {
   "cell_type": "code",
   "execution_count": null,
   "metadata": {},
   "outputs": [],
   "source": [
    "# ensure that at least one contour was found\n",
    "if len(cnts) > 0:\n",
    "\t# sort the contours according to their size in descending order\n",
    "\tcnts = sorted(cnts, key=cv2.contourArea, reverse=True)\n",
    " \n",
    "\t# loop over the sorted contours\n",
    "\tfor c in cnts:\n",
    "\t\t# approximate the contour\n",
    "\t\tperi = cv2.arcLength(c, True)\n",
    "\t\tapprox = cv2.approxPolyDP(c, 0.02 * peri, True)\n",
    " \n",
    "\t\t# if our approximated contour has four points, then we can assume\n",
    "        # we have found the paper\n",
    "\t\tif len(approx) == 4:\n",
    "\t\t\tdocCnt = approx\n",
    "\t\t\tbreak"
   ]
  },
  {
   "cell_type": "code",
   "execution_count": null,
   "metadata": {},
   "outputs": [],
   "source": [
    "# apply a four point perspective transform to both the\n",
    "# original image and grayscale image to obtain a top-down\n",
    "# birds eye view of the paper\n",
    "paper = four_point_transform(image, docCnt.reshape(4, 2))\n",
    "warped = four_point_transform(gray, docCnt.reshape(4, 2))"
   ]
  },
  {
   "cell_type": "code",
   "execution_count": null,
   "metadata": {},
   "outputs": [],
   "source": [
    "plt.imshow(paper)\n",
    "plt.show()\n",
    "plt.imshow(warped)\n",
    "plt.show()"
   ]
  },
  {
   "cell_type": "code",
   "execution_count": null,
   "metadata": {},
   "outputs": [],
   "source": [
    "# apply Otsu's thresholding method to binarize the warped piece of paper\n",
    "thresh = cv2.threshold(warped, 0, 255, cv2.THRESH_BINARY_INV | cv2.THRESH_OTSU)[1]"
   ]
  },
  {
   "cell_type": "code",
   "execution_count": null,
   "metadata": {},
   "outputs": [],
   "source": [
    "plt.imshow(thresh)\n",
    "plt.show()"
   ]
  },
  {
   "cell_type": "code",
   "execution_count": null,
   "metadata": {},
   "outputs": [],
   "source": [
    "# find contours in the thresholded image, then initialize the list of contours \n",
    "# that correspond to questions\n",
    "cnts = cv2.findContours(thresh.copy(), cv2.RETR_EXTERNAL, cv2.CHAIN_APPROX_SIMPLE)\n",
    "cnts = imutils.grab_contours(cnts)\n",
    "questionCnts = []\n",
    " \n",
    "# loop over the contours\n",
    "for c in cnts:\n",
    "\t# compute the bounding box of the contour, then use the bounding box to \n",
    "    # derive the aspect ratio\n",
    "\t(x, y, w, h) = cv2.boundingRect(c)\n",
    "\tar = w / float(h)\n",
    " \n",
    "\t# in order to label the contour as a question, region should be \n",
    "    # sufficiently (đủ) wide, sufficiently tall, and\n",
    "\t# have an aspect ratio approximately equal to 1\n",
    "\tif w >= 20 and h >= 20 and ar >= 0.9 and ar <= 1.1:\n",
    "\t\tquestionCnts.append(c)"
   ]
  },
  {
   "cell_type": "code",
   "execution_count": null,
   "metadata": {},
   "outputs": [],
   "source": [
    "# sort the question contours top-to-bottom, then initialize the total number \n",
    "# of correct answers\n",
    "questionCnts = contours.sort_contours(questionCnts, method=\"top-to-bottom\")[0]\n",
    "correct = 0\n",
    " \n",
    "# each question has 5 possible answers, to loop over the question in batches \n",
    "# of 5\n",
    "for (q, i) in enumerate(np.arange(0, len(questionCnts), 5)):\n",
    "\t# sort the contours for the current question from left to right, then \n",
    "    # initialize the index of the bubbled answer\n",
    "\tcnts = contours.sort_contours(questionCnts[i:i + 5])[0]\n",
    "\tbubbled = None\n",
    "\t# loop over the sorted contours\n",
    "\tfor (j, c) in enumerate(cnts):\n",
    "\t\t# construct a mask that reveals only the current \"bubble\" for the \n",
    "        # question\n",
    "\t\tmask = np.zeros(thresh.shape, dtype=\"uint8\")\n",
    "\t\tcv2.drawContours(mask, [c], -1, 255, -1)\n",
    " \n",
    "\t\t# apply the mask to the thresholded image, then count the number \n",
    "        # of non-zero pixels in the\n",
    "\t\t# bubble area\n",
    "\t\tmask = cv2.bitwise_and(thresh, thresh, mask=mask)\n",
    "\t\ttotal = cv2.countNonZero(mask)\n",
    " \n",
    "\t\t# if the current total has a larger number of total non-zero pixels, \n",
    "        # then we are examining the currently bubbled-in answer\n",
    "\t\tif bubbled is None or total > bubbled[0]:\n",
    "\t\t\tbubbled = (total, j)\n",
    "\t# initialize the contour color and the index of the\n",
    "\t# *correct* answer\n",
    "\tcolor = (0, 0, 255)\n",
    "\tk = ANSWER_KEY[q]\n",
    " \n",
    "\t# check to see if the bubbled answer is correct\n",
    "\tif k == bubbled[1]:\n",
    "\t\tcolor = (0, 255, 0)\n",
    "\t\tcorrect += 1\n",
    " \n",
    "\t# draw the outline of the correct answer on the test\n",
    "\tcv2.drawContours(paper, [cnts[k]], -1, color, 3)"
   ]
  },
  {
   "cell_type": "code",
   "execution_count": null,
   "metadata": {},
   "outputs": [],
   "source": [
    "# grab the test taker\n",
    "score = (correct / 5.0) * 100\n",
    "print(\"[INFO] score: {:.2f}%\".format(score))\n",
    "cv2.putText(paper, \"{:.2f}%\".format(score), (10, 30),\n",
    "\tcv2.FONT_HERSHEY_SIMPLEX, 0.9, (0, 0, 255), 2)\n",
    "cv2.imshow(\"Original\", image)\n",
    "cv2.imshow(\"Exam\", paper)\n",
    "cv2.waitKey(0)"
   ]
  }
 ],
 "metadata": {
  "kernelspec": {
   "display_name": "Python 3",
   "language": "python",
   "name": "python3"
  },
  "language_info": {
   "codemirror_mode": {
    "name": "ipython",
    "version": 3
   },
   "file_extension": ".py",
   "mimetype": "text/x-python",
   "name": "python",
   "nbconvert_exporter": "python",
   "pygments_lexer": "ipython3",
   "version": "3.7.3"
  }
 },
 "nbformat": 4,
 "nbformat_minor": 2
}
